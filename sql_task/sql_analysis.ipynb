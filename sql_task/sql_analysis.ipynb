{
 "cells": [
  {
   "cell_type": "markdown",
   "id": "217008a7",
   "metadata": {},
   "source": [
    "# SQL Task: Product Table Comparison"
   ]
  },
  {
   "cell_type": "code",
   "execution_count": null,
   "id": "8bb06c5f",
   "metadata": {},
   "outputs": [],
   "source": [
    "\n",
    "import pandas as pd\n",
    "import sqlite3\n",
    "\n",
    "# Load CSVs\n",
    "df1 = pd.read_csv('products_day1.csv')\n",
    "df2 = pd.read_csv('products_day2.csv')\n",
    "\n",
    "# Create SQLite in-memory database\n",
    "conn = sqlite3.connect(':memory:')\n",
    "\n",
    "df1.to_sql('products_day1', conn, index=False, if_exists='replace')\n",
    "df2.to_sql('products_day2', conn, index=False, if_exists='replace')\n",
    "\n",
    "# Find Added/Removed Rows\n",
    "added_removed_query = '''\n",
    "SELECT *,'REMOVED' as change_type FROM products_day1\n",
    "WHERE product_id NOT IN (SELECT product_id FROM products_day2)\n",
    "UNION ALL\n",
    "SELECT *,'ADDED' as change_type FROM products_day2\n",
    "WHERE product_id NOT IN (SELECT product_id FROM products_day1)\n",
    "'''\n",
    "added_removed_df = pd.read_sql_query(added_removed_query, conn)\n",
    "added_removed_df.to_csv('added_removed_rows.csv', index=False)\n",
    "added_removed_df\n"
   ]
  },
  {
   "cell_type": "code",
   "execution_count": null,
   "id": "f208e2c1",
   "metadata": {},
   "outputs": [],
   "source": [
    "\n",
    "# Find Column-Level Changes\n",
    "compare_query = '''\n",
    "SELECT d1.product_id, \n",
    "       'price' AS column_changed, \n",
    "       d1.price AS old_value, \n",
    "       d2.price AS new_value\n",
    "FROM products_day1 d1\n",
    "JOIN products_day2 d2 ON d1.product_id = d2.product_id\n",
    "WHERE d1.price != d2.price\n",
    "\n",
    "UNION ALL\n",
    "\n",
    "SELECT d1.product_id, \n",
    "       'stock' AS column_changed, \n",
    "       d1.stock AS old_value, \n",
    "       d2.stock AS new_value\n",
    "FROM products_day1 d1\n",
    "JOIN products_day2 d2 ON d1.product_id = d2.product_id\n",
    "WHERE d1.stock != d2.stock\n",
    "'''\n",
    "column_diff_df = pd.read_sql_query(compare_query, conn)\n",
    "column_diff_df.to_csv('column_level_diff.csv', index=False)\n",
    "column_diff_df\n"
   ]
  }
 ],
 "metadata": {},
 "nbformat": 4,
 "nbformat_minor": 5
}
