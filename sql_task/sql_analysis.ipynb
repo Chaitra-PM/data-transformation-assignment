# SQL-Based Product Catalog Comparison using Python

## Step 1: Load CSV Files as DataFrames

import pandas as pd
import sqlite3

# Load input CSV files
df_day1 = pd.read_csv("products_day1.csv")
df_day2 = pd.read_csv("products_day2.csv")

df_day1.head()
df_day2.head()

# Create in-memory SQL DB and load tables

conn = sqlite3.connect(":memory:")
df_day1.to_sql("day1", conn, index=False, if_exists="replace")
df_day2.to_sql("day2", conn, index=False, if_exists="replace")

full_changes_query = '''
SELECT *, 'REMOVED' AS change_type FROM day1
WHERE product_id NOT IN (SELECT product_id FROM day2)

UNION ALL

SELECT *, 'ADDED' AS change_type FROM day2
WHERE product_id NOT IN (SELECT product_id FROM day1)
'''

full_changes = pd.read_sql_query(full_changes_query, conn)
full_changes.to_csv("full_row_changes.csv", index=False)
full_changes

# Dynamically find columns to compare (excluding product_id)
columns_to_compare = [col for col in df_day1.columns if col != "product_id"]
column_diffs = []

for col in columns_to_compare:
    query = f'''
    SELECT d1.product_id, '{col}' AS column_changed, d1.{col} AS old_value, d2.{col} AS new_value
    FROM day1 d1 JOIN day2 d2 ON d1.product_id = d2.product_id
    WHERE d1.{col} != d2.{col}
    '''
    diff = pd.read_sql_query(query, conn)
    column_diffs.append(diff)

column_level_changes = pd.concat(column_diffs)
column_level_changes.to_csv("column_level_changes.csv", index=False)
column_level_changes

